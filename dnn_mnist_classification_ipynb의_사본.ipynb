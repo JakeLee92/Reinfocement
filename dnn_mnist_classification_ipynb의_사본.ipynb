{
  "nbformat": 4,
  "nbformat_minor": 0,
  "metadata": {
    "colab": {
      "name": "dnn_mnist_classification.ipynb의 사본",
      "provenance": [],
      "collapsed_sections": [],
      "include_colab_link": true
    },
    "kernelspec": {
      "name": "python3",
      "display_name": "Python 3"
    }
  },
  "cells": [
    {
      "cell_type": "markdown",
      "metadata": {
        "id": "view-in-github",
        "colab_type": "text"
      },
      "source": [
        "<a href=\"https://colab.research.google.com/github/JakeLee92/Reinforcement/blob/master/dnn_mnist_classification_ipynb%EC%9D%98_%EC%82%AC%EB%B3%B8.ipynb\" target=\"_parent\"><img src=\"https://colab.research.google.com/assets/colab-badge.svg\" alt=\"Open In Colab\"/></a>"
      ]
    },
    {
      "cell_type": "code",
      "metadata": {
        "id": "Ef8vm3RO1rrU",
        "colab_type": "code",
        "colab": {}
      },
      "source": [
        "from tensorflow.keras.datasets import mnist\n",
        "import matplotlib.pyplot as plt"
      ],
      "execution_count": null,
      "outputs": []
    },
    {
      "cell_type": "code",
      "metadata": {
        "id": "FagQoa3n3HQ4",
        "colab_type": "code",
        "colab": {}
      },
      "source": [
        "(train_images, train_labels), (test_images, test_labels) = mnist.load_data()"
      ],
      "execution_count": null,
      "outputs": []
    },
    {
      "cell_type": "code",
      "metadata": {
        "id": "T-i6lXs8DGyg",
        "colab_type": "code",
        "colab": {
          "base_uri": "https://localhost:8080/",
          "height": 52
        },
        "outputId": "73bc8231-2832-487b-88a2-fa2be8cd84a9"
      },
      "source": [
        "print(train_images.shape)\n",
        "print(train_labels.shape)"
      ],
      "execution_count": null,
      "outputs": [
        {
          "output_type": "stream",
          "text": [
            "(60000, 28, 28)\n",
            "(60000,)\n"
          ],
          "name": "stdout"
        }
      ]
    },
    {
      "cell_type": "code",
      "metadata": {
        "id": "1YLPJZ_bDjuk",
        "colab_type": "code",
        "colab": {
          "base_uri": "https://localhost:8080/",
          "height": 34
        },
        "outputId": "81f5d847-d51e-48be-ef0a-e09ffeeeb968"
      },
      "source": [
        "train_labels[0]"
      ],
      "execution_count": null,
      "outputs": [
        {
          "output_type": "execute_result",
          "data": {
            "text/plain": [
              "5"
            ]
          },
          "metadata": {
            "tags": []
          },
          "execution_count": 19
        }
      ]
    },
    {
      "cell_type": "code",
      "metadata": {
        "id": "uMFvHjgV3pxl",
        "colab_type": "code",
        "colab": {
          "base_uri": "https://localhost:8080/",
          "height": 265
        },
        "outputId": "6fd085b9-bfd2-48dc-8e42-974c92752cc5"
      },
      "source": [
        "plt.figure()\n",
        "plt.imshow(train_images[0])\n",
        "plt.colorbar()\n",
        "plt.grid(False)\n",
        "plt.show()"
      ],
      "execution_count": null,
      "outputs": [
        {
          "output_type": "display_data",
          "data": {
            "image/png": "[encoded data removed]",
            "text/plain": [
              "<Figure size 432x288 with 2 Axes>"
            ]
          },
          "metadata": {
            "tags": [],
            "needs_background": "light"
          }
        }
      ]
    },
    {
      "cell_type": "code",
      "metadata": {
        "id": "e3paeKOX3QAw",
        "colab_type": "code",
        "colab": {}
      },
      "source": [
        "train_images = train_images.reshape((60000, 28*28))\n",
        "test_images = test_images.reshape((10000, 28*28))"
      ],
      "execution_count": null,
      "outputs": []
    },
    {
      "cell_type": "code",
      "metadata": {
        "id": "-o_ZLww-D9BY",
        "colab_type": "code",
        "colab": {
          "base_uri": "https://localhost:8080/",
          "height": 34
        },
        "outputId": "06e06293-3154-488b-dcb1-f5b1f27e3f4c"
      },
      "source": [
        "train_images.shape"
      ],
      "execution_count": null,
      "outputs": [
        {
          "output_type": "execute_result",
          "data": {
            "text/plain": [
              "(60000, 784)"
            ]
          },
          "metadata": {
            "tags": []
          },
          "execution_count": 22
        }
      ]
    },
    {
      "cell_type": "code",
      "metadata": {
        "id": "Yk2-XqNLOqHn",
        "colab_type": "code",
        "colab": {
          "base_uri": "https://localhost:8080/",
          "height": 34
        },
        "outputId": "9e90fb06-6574-4f5a-e441-818f4a1a3ebd"
      },
      "source": [
        "train_labels[0]"
      ],
      "execution_count": null,
      "outputs": [
        {
          "output_type": "execute_result",
          "data": {
            "text/plain": [
              "5"
            ]
          },
          "metadata": {
            "tags": []
          },
          "execution_count": 23
        }
      ]
    },
    {
      "cell_type": "code",
      "metadata": {
        "id": "g7yFighv3k9g",
        "colab_type": "code",
        "colab": {}
      },
      "source": [
        "from tensorflow.keras.utils import to_categorical"
      ],
      "execution_count": null,
      "outputs": []
    },
    {
      "cell_type": "code",
      "metadata": {
        "id": "OZ2uIlyJ3qno",
        "colab_type": "code",
        "colab": {}
      },
      "source": [
        "train_labels = to_categorical(train_labels)\n",
        "test_labels = to_categorical(test_labels)"
      ],
      "execution_count": null,
      "outputs": []
    },
    {
      "cell_type": "code",
      "metadata": {
        "id": "hswGLn97EkNY",
        "colab_type": "code",
        "colab": {
          "base_uri": "https://localhost:8080/",
          "height": 34
        },
        "outputId": "6d6330db-0ac7-4335-d5e6-69a0b82746f4"
      },
      "source": [
        "train_labels.shape"
      ],
      "execution_count": null,
      "outputs": [
        {
          "output_type": "execute_result",
          "data": {
            "text/plain": [
              "(60000, 10)"
            ]
          },
          "metadata": {
            "tags": []
          },
          "execution_count": 26
        }
      ]
    },
    {
      "cell_type": "code",
      "metadata": {
        "id": "puHEXT9TErRq",
        "colab_type": "code",
        "colab": {
          "base_uri": "https://localhost:8080/",
          "height": 34
        },
        "outputId": "4a71e7e3-872e-4837-b3be-445822778d6e"
      },
      "source": [
        "train_labels[0]"
      ],
      "execution_count": null,
      "outputs": [
        {
          "output_type": "execute_result",
          "data": {
            "text/plain": [
              "array([0., 0., 0., 0., 0., 1., 0., 0., 0., 0.], dtype=float32)"
            ]
          },
          "metadata": {
            "tags": []
          },
          "execution_count": 27
        }
      ]
    },
    {
      "cell_type": "code",
      "metadata": {
        "id": "EFB35ZRu37XG",
        "colab_type": "code",
        "colab": {}
      },
      "source": [
        "from tensorflow.keras import models, layers"
      ],
      "execution_count": null,
      "outputs": []
    },
    {
      "cell_type": "code",
      "metadata": {
        "id": "vE6VIPbL4Okf",
        "colab_type": "code",
        "colab": {}
      },
      "source": [
        "model = models.Sequential()\n",
        "model.add(layers.Dense(units=512,\n",
        "                       activation='relu',\n",
        "                       input_shape=(28*28,)))\n",
        "model.add(layers.Dense(units=10, activation='softmax'))"
      ],
      "execution_count": null,
      "outputs": []
    },
    {
      "cell_type": "code",
      "metadata": {
        "id": "Wc5A0Ucz4tNW",
        "colab_type": "code",
        "colab": {
          "base_uri": "https://localhost:8080/",
          "height": 227
        },
        "outputId": "228226a8-1dca-4901-dce9-34ca8ed9a32f"
      },
      "source": [
        "model.summary()"
      ],
      "execution_count": null,
      "outputs": [
        {
          "output_type": "stream",
          "text": [
            "Model: \"sequential_1\"\n",
            "_________________________________________________________________\n",
            "Layer (type)                 Output Shape              Param #   \n",
            "=================================================================\n",
            "dense_2 (Dense)              (None, 512)               401920    \n",
            "_________________________________________________________________\n",
            "dense_3 (Dense)              (None, 10)                5130      \n",
            "=================================================================\n",
            "Total params: 407,050\n",
            "Trainable params: 407,050\n",
            "Non-trainable params: 0\n",
            "_________________________________________________________________\n"
          ],
          "name": "stdout"
        }
      ]
    },
    {
      "cell_type": "code",
      "metadata": {
        "id": "UruvLv1a4ufe",
        "colab_type": "code",
        "colab": {}
      },
      "source": [
        "model.compile(optimizer='rmsprop',\n",
        "              loss='categorical_crossentropy',\n",
        "              metrics=['accuracy'])"
      ],
      "execution_count": null,
      "outputs": []
    },
    {
      "cell_type": "code",
      "metadata": {
        "id": "8AJEYEcW5I-l",
        "colab_type": "code",
        "colab": {
          "base_uri": "https://localhost:8080/",
          "height": 1000
        },
        "outputId": "f3c35b83-3a1b-4e43-b284-cbcc5ca9e8b8"
      },
      "source": [
        "history = model.fit(train_images, train_labels,\n",
        "                    epochs=30,\n",
        "                    batch_size=100,\n",
        "                    validation_split=0.2)"
      ],
      "execution_count": null,
      "outputs": [
        {
          "output_type": "stream",
          "text": [
            "Epoch 1/30\n",
            "480/480 [==============================] - 4s 8ms/step - loss: 5.3383 - accuracy: 0.8936 - val_loss: 1.1000 - val_accuracy: 0.9339\n",
            "Epoch 2/30\n",
            "480/480 [==============================] - 4s 8ms/step - loss: 0.7994 - accuracy: 0.9500 - val_loss: 0.9099 - val_accuracy: 0.9507\n",
            "Epoch 3/30\n",
            "480/480 [==============================] - 4s 8ms/step - loss: 0.5842 - accuracy: 0.9617 - val_loss: 0.8562 - val_accuracy: 0.9565\n",
            "Epoch 4/30\n",
            "480/480 [==============================] - 4s 8ms/step - loss: 0.4390 - accuracy: 0.9710 - val_loss: 0.8612 - val_accuracy: 0.9551\n",
            "Epoch 5/30\n",
            "480/480 [==============================] - 4s 8ms/step - loss: 0.3711 - accuracy: 0.9759 - val_loss: 0.9876 - val_accuracy: 0.9619\n",
            "Epoch 6/30\n",
            "480/480 [==============================] - 4s 8ms/step - loss: 0.3860 - accuracy: 0.9783 - val_loss: 1.0662 - val_accuracy: 0.9614\n",
            "Epoch 7/30\n",
            "480/480 [==============================] - 4s 8ms/step - loss: 0.3305 - accuracy: 0.9810 - val_loss: 1.0775 - val_accuracy: 0.9607\n",
            "Epoch 8/30\n",
            "480/480 [==============================] - 4s 8ms/step - loss: 0.2841 - accuracy: 0.9831 - val_loss: 1.0239 - val_accuracy: 0.9657\n",
            "Epoch 9/30\n",
            "480/480 [==============================] - 4s 8ms/step - loss: 0.2569 - accuracy: 0.9856 - val_loss: 0.9187 - val_accuracy: 0.9693\n",
            "Epoch 10/30\n",
            "480/480 [==============================] - 4s 8ms/step - loss: 0.2363 - accuracy: 0.9861 - val_loss: 1.0556 - val_accuracy: 0.9691\n",
            "Epoch 11/30\n",
            "480/480 [==============================] - 4s 8ms/step - loss: 0.2382 - accuracy: 0.9875 - val_loss: 1.1004 - val_accuracy: 0.9684\n",
            "Epoch 12/30\n",
            "480/480 [==============================] - 4s 8ms/step - loss: 0.1934 - accuracy: 0.9893 - val_loss: 1.3476 - val_accuracy: 0.9675\n",
            "Epoch 13/30\n",
            "480/480 [==============================] - 4s 8ms/step - loss: 0.1834 - accuracy: 0.9900 - val_loss: 1.3790 - val_accuracy: 0.9658\n",
            "Epoch 14/30\n",
            "480/480 [==============================] - 4s 8ms/step - loss: 0.1548 - accuracy: 0.9909 - val_loss: 1.2015 - val_accuracy: 0.9722\n",
            "Epoch 15/30\n",
            "480/480 [==============================] - 4s 8ms/step - loss: 0.1701 - accuracy: 0.9907 - val_loss: 1.3139 - val_accuracy: 0.9712\n",
            "Epoch 16/30\n",
            "480/480 [==============================] - 4s 8ms/step - loss: 0.1703 - accuracy: 0.9918 - val_loss: 1.2912 - val_accuracy: 0.9711\n",
            "Epoch 17/30\n",
            "480/480 [==============================] - 4s 8ms/step - loss: 0.1415 - accuracy: 0.9924 - val_loss: 1.0024 - val_accuracy: 0.9728\n",
            "Epoch 18/30\n",
            "480/480 [==============================] - 4s 8ms/step - loss: 0.1130 - accuracy: 0.9933 - val_loss: 1.4435 - val_accuracy: 0.9690\n",
            "Epoch 19/30\n",
            "480/480 [==============================] - 4s 8ms/step - loss: 0.1417 - accuracy: 0.9929 - val_loss: 1.1966 - val_accuracy: 0.9732\n",
            "Epoch 20/30\n",
            "480/480 [==============================] - 4s 8ms/step - loss: 0.1255 - accuracy: 0.9933 - val_loss: 1.3365 - val_accuracy: 0.9698\n",
            "Epoch 21/30\n",
            "480/480 [==============================] - 4s 8ms/step - loss: 0.0966 - accuracy: 0.9942 - val_loss: 1.3901 - val_accuracy: 0.9711\n",
            "Epoch 22/30\n",
            "480/480 [==============================] - 4s 8ms/step - loss: 0.1212 - accuracy: 0.9940 - val_loss: 1.2691 - val_accuracy: 0.9737\n",
            "Epoch 23/30\n",
            "480/480 [==============================] - 4s 8ms/step - loss: 0.1246 - accuracy: 0.9939 - val_loss: 1.2969 - val_accuracy: 0.9722\n",
            "Epoch 24/30\n",
            "480/480 [==============================] - 4s 8ms/step - loss: 0.1160 - accuracy: 0.9942 - val_loss: 1.4155 - val_accuracy: 0.9727\n",
            "Epoch 25/30\n",
            "480/480 [==============================] - 4s 8ms/step - loss: 0.1124 - accuracy: 0.9943 - val_loss: 1.3710 - val_accuracy: 0.9731\n",
            "Epoch 26/30\n",
            "480/480 [==============================] - 4s 8ms/step - loss: 0.1171 - accuracy: 0.9945 - val_loss: 1.3732 - val_accuracy: 0.9744\n",
            "Epoch 27/30\n",
            "480/480 [==============================] - 4s 8ms/step - loss: 0.1113 - accuracy: 0.9946 - val_loss: 1.3751 - val_accuracy: 0.9732\n",
            "Epoch 28/30\n",
            "480/480 [==============================] - 4s 8ms/step - loss: 0.0996 - accuracy: 0.9951 - val_loss: 1.5320 - val_accuracy: 0.9737\n",
            "Epoch 29/30\n",
            "480/480 [==============================] - 4s 8ms/step - loss: 0.0982 - accuracy: 0.9954 - val_loss: 1.4231 - val_accuracy: 0.9762\n",
            "Epoch 30/30\n",
            "480/480 [==============================] - 4s 8ms/step - loss: 0.0898 - accuracy: 0.9959 - val_loss: 1.4217 - val_accuracy: 0.9772\n"
          ],
          "name": "stdout"
        }
      ]
    },
    {
      "cell_type": "code",
      "metadata": {
        "id": "H6T6jgh75RBV",
        "colab_type": "code",
        "colab": {}
      },
      "source": [
        "acc = history.history['accuracy']\n",
        "val_acc = history.history['val_accuracy']\n",
        "\n",
        "loss = history.history['loss']\n",
        "val_loss = history.history['val_loss']\n",
        "\n",
        "epochs = range(len(acc))"
      ],
      "execution_count": null,
      "outputs": []
    },
    {
      "cell_type": "code",
      "metadata": {
        "id": "3j7MM8fm6iE9",
        "colab_type": "code",
        "colab": {
          "base_uri": "https://localhost:8080/",
          "height": 281
        },
        "outputId": "698782e1-3e8d-44e9-8145-79eea8d3db7b"
      },
      "source": [
        "plt.plot(epochs, acc, 'bo', label='Training acc')\n",
        "plt.plot(epochs, val_acc, 'b', label='Validation acc')\n",
        "plt.title('Training and validation accuracy')\n",
        "plt.legend()\n",
        "\n",
        "plt.show()"
      ],
      "execution_count": null,
      "outputs": [
        {
          "output_type": "display_data",
          "data": {
            "image/png": "[encoded data removed]",
            "text/plain": [
              "<Figure size 432x288 with 1 Axes>"
            ]
          },
          "metadata": {
            "tags": [],
            "needs_background": "light"
          }
        }
      ]
    },
    {
      "cell_type": "code",
      "metadata": {
        "id": "HNUQvmHP6vIM",
        "colab_type": "code",
        "colab": {
          "base_uri": "https://localhost:8080/",
          "height": 281
        },
        "outputId": "d61bb61d-a2a6-4a76-eba9-c167884b6fb8"
      },
      "source": [
        "plt.plot(epochs, loss, 'bo', label='Training loss')\n",
        "plt.plot(epochs, val_loss, 'b', label='Validation loss')\n",
        "plt.title('Training and validation loss')\n",
        "plt.legend()\n",
        "\n",
        "plt.show()"
      ],
      "execution_count": null,
      "outputs": [
        {
          "output_type": "display_data",
          "data": {
            "image/png": "[encoded data removed]",
            "text/plain": [
              "<Figure size 432x288 with 1 Axes>"
            ]
          },
          "metadata": {
            "tags": [],
            "needs_background": "light"
          }
        }
      ]
    },
    {
      "cell_type": "code",
      "metadata": {
        "id": "eG9iJI0665am",
        "colab_type": "code",
        "colab": {
          "base_uri": "https://localhost:8080/",
          "height": 34
        },
        "outputId": "c97013e8-5fcb-4e29-bbdd-5b2fee16e721"
      },
      "source": [
        "test_loss, test_acc = model.evaluate(test_images, test_labels)"
      ],
      "execution_count": null,
      "outputs": [
        {
          "output_type": "stream",
          "text": [
            "313/313 [==============================] - 1s 2ms/step - loss: 1.2327 - accuracy: 0.9778\n"
          ],
          "name": "stdout"
        }
      ]
    },
    {
      "cell_type": "code",
      "metadata": {
        "id": "-P_J7YeIF-_Z",
        "colab_type": "code",
        "colab": {}
      },
      "source": [
        "import numpy as np"
      ],
      "execution_count": null,
      "outputs": []
    },
    {
      "cell_type": "code",
      "metadata": {
        "id": "EZWpP14rGFg1",
        "colab_type": "code",
        "colab": {
          "base_uri": "https://localhost:8080/",
          "height": 53
        },
        "outputId": "e31d0b4e-0365-4c39-a9e0-70a2cc0f1ab7"
      },
      "source": [
        "predict = model.predict(test_images[0].reshape((1, 28 * 28)))\n",
        "\n",
        "print('predict probability:', predict)\n",
        "print('predict number:', np.argmax(predict))"
      ],
      "execution_count": null,
      "outputs": [
        {
          "output_type": "stream",
          "text": [
            "predict probability: [[0. 0. 0. 0. 0. 0. 0. 1. 0. 0.]]\n",
            "predict number: 7\n"
          ],
          "name": "stdout"
        }
      ]
    },
    {
      "cell_type": "code",
      "metadata": {
        "id": "G54imh60GYft",
        "colab_type": "code",
        "colab": {
          "base_uri": "https://localhost:8080/",
          "height": 265
        },
        "outputId": "27544399-f0cb-4e1b-a0b4-daef3e48241f"
      },
      "source": [
        "plt.figure()\n",
        "plt.imshow(test_images[0].reshape(28, 28))\n",
        "plt.colorbar()\n",
        "plt.grid(False)\n",
        "plt.show()"
      ],
      "execution_count": null,
      "outputs": [
        {
          "output_type": "display_data",
          "data": {
            "image/png": "[encoded data removed]",
            "text/plain": [
              "<Figure size 432x288 with 2 Axes>"
            ]
          },
          "metadata": {
            "tags": [],
            "needs_background": "light"
          }
        }
      ]
    },
    {
      "cell_type": "code",
      "metadata": {
        "id": "gsJSyA0fJMIU",
        "colab_type": "code",
        "colab": {}
      },
      "source": [
        ""
      ],
      "execution_count": null,
      "outputs": []
    }
  ]
}